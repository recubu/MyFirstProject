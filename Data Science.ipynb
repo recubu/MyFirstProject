{
    "cells": [
        {
            "cell_type": "markdown",
            "metadata": {
                "collapsed": true
            },
            "source": "# My Jupyter Notebook on IMB Watson Studio"
        },
        {
            "cell_type": "markdown",
            "metadata": {},
            "source": "**Reinhard Busch** Student of Data Science"
        },
        {
            "cell_type": "markdown",
            "metadata": {},
            "source": "*Learning Data Science could bring great opportunities*"
        },
        {
            "cell_type": "markdown",
            "metadata": {},
            "source": "### Here are some Math Operations as example:"
        },
        {
            "cell_type": "code",
            "execution_count": 2,
            "metadata": {},
            "outputs": [
                {
                    "data": {
                        "text/plain": "1500"
                    },
                    "execution_count": 2,
                    "metadata": {},
                    "output_type": "execute_result"
                }
            ],
            "source": "100 * 15"
        },
        {
            "cell_type": "code",
            "execution_count": 3,
            "metadata": {},
            "outputs": [
                {
                    "data": {
                        "text/plain": "4.0"
                    },
                    "execution_count": 3,
                    "metadata": {},
                    "output_type": "execute_result"
                }
            ],
            "source": "100 / 25"
        },
        {
            "cell_type": "code",
            "execution_count": 4,
            "metadata": {},
            "outputs": [
                {
                    "data": {
                        "text/plain": "1000"
                    },
                    "execution_count": 4,
                    "metadata": {},
                    "output_type": "execute_result"
                }
            ],
            "source": "560 + 440"
        },
        {
            "cell_type": "markdown",
            "metadata": {},
            "source": "# Ejemplo de Markdown en Jupyter Notebook\n\n## Lista con vi\u00f1etas\n- Elemento 1\n- Elemento 2\n- Elemento 3\n\n## Lista numerada\n1. Primer elemento\n2. Segundo elemento\n3. Tercer elemento\n\n## Tabla\n| Encabezado 1 | Encabezado 2 | Encabezado 3 |\n|--------------|--------------|--------------|\n| Fila 1 Col 1 | Fila 1 Col 2 | Fila 1 Col 3 |\n| Fila 2 Col 1 | Fila 2 Col 2 | Fila 2 Col 3 |\n| Fila 3 Col 1 | Fila 3 Col 2 | Fila 3 Col 3 |\n\n## Hiperv\u00ednculo\n[Visita GitHub](https://github.com/)\n\n## Imagen\n![Imagen de ejemplo](https://cdn-icons-png.flaticon.com/512/25/25231.png)"
        },
        {
            "cell_type": "code",
            "execution_count": null,
            "metadata": {},
            "outputs": [],
            "source": ""
        }
    ],
    "metadata": {
        "kernelspec": {
            "display_name": "Python 3.10",
            "language": "python",
            "name": "python3"
        },
        "language_info": {
            "codemirror_mode": {
                "name": "ipython",
                "version": 3
            },
            "file_extension": ".py",
            "mimetype": "text/x-python",
            "name": "python",
            "nbconvert_exporter": "python",
            "pygments_lexer": "ipython3",
            "version": "3.10.14"
        }
    },
    "nbformat": 4,
    "nbformat_minor": 1
}